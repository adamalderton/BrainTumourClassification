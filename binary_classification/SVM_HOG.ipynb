{
 "cells": [
  {
   "cell_type": "markdown",
   "metadata": {},
   "source": [
    "# Binary Classification of Brain Tumours using Support Vector Machines (SVMs) with the Histogram of Gradients (HOG) feature extraction method.\n",
    "\n",
    "For more information on the background of this notebook, please see README.md and the supplementary report."
   ]
  },
  {
   "cell_type": "code",
   "execution_count": 1,
   "metadata": {},
   "outputs": [],
   "source": [
    "# Utility libraries\n",
    "import numpy as np\n",
    "import matplotlib.pyplot as plt\n",
    "import pandas as pd\n",
    "\n",
    "# Machine learning libraries\n",
    "from skimage.feature import _hog"
   ]
  },
  {
   "cell_type": "markdown",
   "metadata": {},
   "source": [
    "The data is loaded from locations relative this directory. Change the dataset location as necessary below.\n",
    "The below two cells work under the assumption that the filenames and labels located in 'label.csv' exactly match the images found in the 'images' directory, for both the dataset and the external test set."
   ]
  },
  {
   "cell_type": "code",
   "execution_count": 3,
   "metadata": {},
   "outputs": [],
   "source": [
    "# First is a directory containing the images themselves.\n",
    "# Second is a csv file containing filenames and labels.\n",
    "dataset_location = \"..\\\\Assignment Kit\\\\dataset\\\\images\"\n",
    "dataset_label_location = \"..\\\\Assignment Kit\\\\dataset\\\\label.csv\"\n",
    "\n",
    "# First is a directory containing the images themselves.\n",
    "# Second is a csv file containing filenames and labels.\n",
    "test_set_location = \"..\\\\Assignment Kit\\\\test_set\\\\images\"\n",
    "test_set_label_location = \"..\\\\Assignment Kit\\\\test_set\\\\label.csv\""
   ]
  },
  {
   "cell_type": "code",
   "execution_count": 7,
   "metadata": {},
   "outputs": [
    {
     "name": "stdout",
     "output_type": "stream",
     "text": [
      "Dataset column names: file_name, label\n",
      "Number of images: 3000\n"
     ]
    }
   ],
   "source": [
    "data = pd.read_csv(dataset_label_location)\n",
    "\n",
    "print(\"Dataset column names: {}, {}\".format(data.columns[0], data.columns[1]))\n",
    "print(\"Number of images: {}\".format(data.shape[0]))"
   ]
  },
  {
   "cell_type": "markdown",
   "metadata": {},
   "source": [
    "## Image Pre-Processing"
   ]
  },
  {
   "cell_type": "code",
   "execution_count": null,
   "metadata": {},
   "outputs": [],
   "source": [
    "if pre-rpocessed directory doesn't exist, then pre-process images"
   ]
  },
  {
   "cell_type": "markdown",
   "metadata": {},
   "source": [
    "## HOG Feature extraction.\n",
    "\n",
    "The next section pertains to passing the dataset through the HOG feature extraction framework. This will provide our Support Vector Machine (SVM) with much more useful features than simply the image pixel values themselves, for example. A short summary of the HOG workflow as outlined by [scikit-image.org](https://scikit-image.org/docs/dev/auto_examples/features_detection/plot_hog.html) is outlined below:\n",
    "\n",
    "1. Normalise the images.\n",
    "2. Computing the gradient in the images.\n",
    "3. Computing the gradient histograms.\n",
    "4. Normalising across 'blocks' within the image.\n",
    "5. Flattening the found features into a feature vector which of course can be passed to a standard machine learning technique."
   ]
  },
  {
   "cell_type": "code",
   "execution_count": null,
   "metadata": {},
   "outputs": [],
   "source": []
  }
 ],
 "metadata": {
  "interpreter": {
   "hash": "20aae6498e20301198b9282cfba26225ce2aa47d5ccbb47917268a3f1a433ed9"
  },
  "kernelspec": {
   "display_name": "Python 3.9.9 64-bit",
   "language": "python",
   "name": "python3"
  },
  "language_info": {
   "codemirror_mode": {
    "name": "ipython",
    "version": 3
   },
   "file_extension": ".py",
   "mimetype": "text/x-python",
   "name": "python",
   "nbconvert_exporter": "python",
   "pygments_lexer": "ipython3",
   "version": "3.9.9"
  },
  "orig_nbformat": 4
 },
 "nbformat": 4,
 "nbformat_minor": 2
}
